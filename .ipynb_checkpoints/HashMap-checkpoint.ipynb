{
 "cells": [
  {
   "cell_type": "markdown",
   "metadata": {},
   "source": [
    "# 1. Two Sum\n",
    "Given an array of integers, return indices of the two numbers such that they add up to a specific target.\n",
    "You may assume that each input would have exactly one solution, and you may not use the same element twice.  \n",
    "\n",
    "**Example**:  \n",
    "```\n",
    "Given nums = [2, 7, 11, 15], target = 9,  \n",
    "Because nums[0] + nums[1] = 2 + 7 = 9,  \n",
    "return [0, 1].  \n",
    "```"
   ]
  },
  {
   "cell_type": "markdown",
   "metadata": {},
   "source": [
    "## 1. Brute Force"
   ]
  },
  {
   "cell_type": "code",
   "execution_count": 5,
   "metadata": {},
   "outputs": [],
   "source": [
    "class Solution:\n",
    "    def twoSum(self, nums, target):\n",
    "        for i in range(len(nums)):\n",
    "            j = i + 1\n",
    "            for j in range(j, len(nums)):\n",
    "                if nums[i] + num[j] == target:\n",
    "                    return [i, j]\n",
    "        print('No two sum solution')"
   ]
  },
  {
   "cell_type": "markdown",
   "metadata": {},
   "source": [
    "計算量：$O(n^2)$\n",
    "\n",
    "全探索なので効率が悪い"
   ]
  },
  {
   "cell_type": "markdown",
   "metadata": {},
   "source": [
    "## 2. Use Hash Table"
   ]
  },
  {
   "cell_type": "code",
   "execution_count": null,
   "metadata": {},
   "outputs": [],
   "source": [
    "class Solution:\n",
    "    def twoSum(self, nums, target):\n",
    "        dic = {}\n",
    "        for i in range(len(nums)):\n",
    "            num = target - nums[i]\n",
    "            if j not in dic:\n",
    "                dic[num] = i\n",
    "            else:\n",
    "                return [dic[num], i]"
   ]
  },
  {
   "cell_type": "markdown",
   "metadata": {},
   "source": [
    "Hash Tableを使う\n",
    "\n",
    "計算量：$O(n)$\n",
    "\n",
    "速い"
   ]
  },
  {
   "cell_type": "markdown",
   "metadata": {},
   "source": [
    "# 49. Group Anagrams\n",
    "Given an array of strings, group anagrams together.\n",
    "\n",
    "**Example**\n",
    "\n",
    "```\n",
    "Input: [\"eat\", \"tea\", \"tan\", \"ate\", \"nat\", \"bat\"],\n",
    "Output:\n",
    "[\n",
    "  [\"ate\",\"eat\",\"tea\"],\n",
    "  [\"nat\",\"tan\"],\n",
    "  [\"bat\"]\n",
    "]\n",
    "```\n",
    "\n",
    "**Note**\n",
    " - All inputs will be in lowercase.\n",
    " - The order of your output does not matter."
   ]
  },
  {
   "cell_type": "markdown",
   "metadata": {},
   "source": [
    "## My answer"
   ]
  },
  {
   "cell_type": "code",
   "execution_count": 1,
   "metadata": {},
   "outputs": [],
   "source": [
    "class Solution:\n",
    "    def groupAnagrams(self, strs):\n",
    "        for s in strs:\n",
    "            if tuple(sorted(s)) not in ans:\n",
    "                ans[tuple(sorted(s))] = [s]\n",
    "            else:\n",
    "                ans[tuple(sorted(s))].append(s)\n",
    "        return ans.values()"
   ]
  },
  {
   "cell_type": "markdown",
   "metadata": {},
   "source": [
    "### アナグラムとは\n",
    "文字の種類，数が同じで，並びだけが異なる文字列のこと\n",
    "\n",
    "ex) eatとate\n",
    "\n",
    "### 解き方\n",
    "単語をアルファベット順に並び替え，タプルにする．  \n",
    "タプルをkeyとした辞書に単語がなければkeyとvalueを追加し，そうでなければvalueだけを追加する．  "
   ]
  },
  {
   "cell_type": "markdown",
   "metadata": {},
   "source": [
    "# 1. Intersection of Two Arrays\n",
    "Given two arrays, write a function to compute their intersection.\n",
    "\n",
    "**Example 1:**\n",
    "\n",
    "```\n",
    "Input: nums1 = [1,2,2,1], nums2 = [2,2]\n",
    "Output: [2]\n",
    "```\n",
    "\n",
    "**Example 2:**\n",
    "\n",
    "```\n",
    "Input: nums1 = [4,9,5], nums2 = [9,4,9,8,4]\n",
    "Output: [9,4]\n",
    "```\n",
    "\n",
    "**Note**\n",
    "\n",
    " - Each element in the result must be unique.\n",
    " - The result can be in any order."
   ]
  },
  {
   "cell_type": "markdown",
   "metadata": {},
   "source": [
    "## My answer"
   ]
  },
  {
   "cell_type": "code",
   "execution_count": 3,
   "metadata": {},
   "outputs": [],
   "source": [
    "class Solution:\n",
    "    def intersection(self, nums1, nums2):\n",
    "        ans = []\n",
    "        if len(nums1) - len(nums2) >= 0:\n",
    "            for i in nums1:\n",
    "                for j in nums2:\n",
    "                    if i == j:\n",
    "                        if i not in ans:\n",
    "                            ans.append(i)\n",
    "                            break\n",
    "          \n",
    "        else:\n",
    "            for i in nums2:\n",
    "                for j in nums1:\n",
    "                    if i == j:\n",
    "                        if i not in ans:\n",
    "                            ans.append(i)\n",
    "                            break\n",
    "        return ans"
   ]
  },
  {
   "cell_type": "markdown",
   "metadata": {},
   "source": [
    "## Model answer"
   ]
  },
  {
   "cell_type": "code",
   "execution_count": 5,
   "metadata": {},
   "outputs": [],
   "source": [
    "class Solution:\n",
    "    def set_intersection(self, set1, set2):\n",
    "        return [x for x in set1 if x in set2]\n",
    "    \n",
    "    def intersection(self, nums1, nums2):\n",
    "        set1 = set(nums1)\n",
    "        set2 = set(nums2)\n",
    "        \n",
    "        if len(set1) < len(set2):\n",
    "            return self.set_intersection(set1, set2)\n",
    "        else:\n",
    "            return self.set_intersection(set2, set1)"
   ]
  },
  {
   "cell_type": "markdown",
   "metadata": {},
   "source": [
    "リスト内包表記をしているので処理速度が速い，知らんけど"
   ]
  },
  {
   "cell_type": "markdown",
   "metadata": {},
   "source": [
    "# 929. Unique Email Address\n",
    "Every email consists of local name and a domain name, separated by the @ sign.  \n",
    "For example, in `alice@leetcode.com`, `alice` is the local name, and `leetcode.com` is the domain name.  \n",
    "Besides lowercase letters, these emails may contain `'.'` or `'+'`s.  \n",
    "If you add periods (`'.'`) between some characters in the **local name** part of an email address, mail sent there will be forwarded to the same address without dots in the local name.  \n",
    "For example, `\"alice.z@leetcode.com\"` and `\"alicez@leetcode.com\"` forward to the same email address. (Note that this rule does not apply for domain names)  \n",
    "If you add a plus (`'+'`) in the **local name**, everything after the first plus sign will be **ignored**. This allows certain emails to be filtered, for example, `m.y+name@email.com` will be forwarded to `my@email.com`. (Again, this rule does not apply for domain names.)  \n",
    "It is possible to use both of these rules at the same time.  \n",
    "Given a list of `emails`, we send one email to each address in the list. How many different addresses actually receive mails?  \n",
    "\n",
    "**Example 1:**  \n",
    "```\n",
    "Input: [\"test.email+alex@leetcode.com\",\"test.e.mail+bob.cathy@leetcode.com\",\"testemail+david@lee.tcode.com\"]\n",
    "Output: 2\n",
    "Explanation: \"testemail@leetcode.com\" and \"testemail@lee.tcode.com\" actually receive mails\n",
    "```\n",
    "\n",
    "**Note**  \n",
    " - `1 <= emails[i].length <= 100`\n",
    " - `1 <= emails.length <= 100`\n",
    " - Each `emails[i]` contains exactly one `'@'` character.\n",
    " - All local and domain names are non-empty.\n",
    " - Local names do not start with a `'+'` character.  "
   ]
  },
  {
   "cell_type": "markdown",
   "metadata": {},
   "source": [
    "## My answer"
   ]
  },
  {
   "cell_type": "code",
   "execution_count": 1,
   "metadata": {},
   "outputs": [],
   "source": [
    "class Solution:\n",
    "    def numUniqueEmail(self, emails):\n",
    "        count = 0\n",
    "        dic = []\n",
    "        for email in emails:\n",
    "            local, domain = email.split('@')\n",
    "            local = local.replace('.', '')\n",
    "            if '+' in local:\n",
    "                local = local[: local.find('+')]\n",
    "            email = local + '@' + domain\n",
    "            if email not in dic:\n",
    "                dic.append(email)\n",
    "                count += 1\n",
    "        return count"
   ]
  },
  {
   "cell_type": "markdown",
   "metadata": {},
   "source": [
    "そこそこいい感じのコードが書けたからこれでいいのかなぁ  \n",
    "模範解答はsetを使っていた．\n",
    "> Runtimes:40 ms, faster than 99.05 % of Python3 online submissitons for Unique Email Addresses.  \n",
    "   Memory Usage: 12.7 MB, less than 100.00% of Python3 online submissions for Unique Email Addresses."
   ]
  },
  {
   "cell_type": "markdown",
   "metadata": {},
   "source": [
    "# 387. First Unique Character in a String\n",
    "Given a string, find the first non-repeating character in it and return it's index. If it doesn't exist, return -1.  \n",
    "\n",
    "**Example:**\n",
    "\n",
    "```\n",
    "s = \"leetcode\"\n",
    "return 0.\n",
    "\n",
    "s = \"loveleetcode\",\n",
    "return 2.\n",
    "```\n",
    "\n",
    "**Note:** You may assume the string contain only lowercase letters."
   ]
  },
  {
   "cell_type": "markdown",
   "metadata": {},
   "source": [
    "## My answer"
   ]
  },
  {
   "cell_type": "code",
   "execution_count": 9,
   "metadata": {},
   "outputs": [],
   "source": [
    "class Solution:\n",
    "    def firstUniqChar(self, s: str) -> int:\n",
    "        dic = {}\n",
    "        for i in s:\n",
    "            if i not in dic:\n",
    "                dic[i] = 1\n",
    "            else:\n",
    "                dic[i] += 1\n",
    "        for k, v in dic.items():\n",
    "            if v == 1:\n",
    "                return s.find(k)\n",
    "        return -1"
   ]
  },
  {
   "cell_type": "markdown",
   "metadata": {},
   "source": [
    "> Your runtime beats 77.22 % of Python3 submissions.  \n",
    "\n",
    "時間をかけて考えたけどあまり早くないらしい．"
   ]
  },
  {
   "cell_type": "markdown",
   "metadata": {},
   "source": [
    "## 模範解答"
   ]
  },
  {
   "cell_type": "code",
   "execution_count": 3,
   "metadata": {},
   "outputs": [],
   "source": [
    "class Solution:\n",
    "    def firstUniqChar(self, s: str) -> int:\n",
    "        dic = collections.Counter(s)\n",
    "        \n",
    "        for idx, ch in enumerate(s):\n",
    "            if dic[ch] == 1:\n",
    "                return idx\n",
    "        return -1"
   ]
  },
  {
   "cell_type": "markdown",
   "metadata": {},
   "source": [
    "### 感想\n",
    "自分の解答よりも早くなった．\n",
    "> Runtime: 88 ms, faster than 88.52% of Python3 online submissions for First Unique Character in a String.  \n",
    "Memory Usage: 12.7 MB, less than 100.00% of Python3 online submissions for First Unique Character in a String.  \n",
    "\n",
    "今回のような辞書を作成する場合は`collections.Counter`を使うと1行で作成してくれる．  \n",
    "forを回すときは`enumerate`を使うと，インデックス番号も一緒に取得してくれるので便利．"
   ]
  },
  {
   "cell_type": "markdown",
   "metadata": {},
   "source": [
    "## すごい人の解答"
   ]
  },
  {
   "cell_type": "code",
   "execution_count": 7,
   "metadata": {},
   "outputs": [],
   "source": [
    "class Solution:\n",
    "    def firstUniqChar(self, s: str) -> int:\n",
    "        alphabet = 'abcdefghijklmnopqrstrvwxyz'\n",
    "        n = len(s)\n",
    "        for ch in alphabet:\n",
    "            left = s.find(ch)\n",
    "            if left != -1 and left == s.rfind(ch):\n",
    "                if left < n:\n",
    "                    n = left\n",
    "        return n if n != len(s) else -1"
   ]
  },
  {
   "cell_type": "markdown",
   "metadata": {},
   "source": [
    "はじめにアルファベットが一文字ずつ入った文字列を作成するので，Hash Tableを作る必要がない．  \n",
    "よって，計算時間も早くなる．\n",
    "> Runtime: 24 ms, faster than 99.97% of Python3 online submissions for First Unique Character in a String.\n",
    "Memory Usage: 12.8 MB, less than 100.00% of Python3 online submissions for First Unique Character in a String."
   ]
  },
  {
   "cell_type": "markdown",
   "metadata": {},
   "source": [
    "# 560. Subarray Sum Equals K\n",
    "Given an array integers and an integer **k**, you need to find the total number of continuous subarrays whose sum equals to **k**.  \n",
    "\n",
    "**Example 1:**  \n",
    "```\n",
    "Input:nums = [1,1,1], k = 2\n",
    "Output: 2\n",
    "```\n",
    "\n",
    "**Note:**\n",
    "1. The length of the array is iin range [1, 20000]\n",
    "2. The range of numbers in the array is [-1000, 1000] and the range of the integer **k** is [-1e7, 1e7]."
   ]
  },
  {
   "cell_type": "markdown",
   "metadata": {},
   "source": [
    "連続した数字の合計がkになる組み合わせは何個ありますか？という問題"
   ]
  },
  {
   "cell_type": "markdown",
   "metadata": {},
   "source": [
    "## 1. Brute Force\n",
    "**TLE**  \n",
    "計算量 : $O(n^{3})$"
   ]
  },
  {
   "cell_type": "code",
   "execution_count": 11,
   "metadata": {},
   "outputs": [],
   "source": [
    "class Solution:\n",
    "    def subarraySum(self, nums, k):\n",
    "        count = 0\n",
    "        for start in range(len(nums)):\n",
    "            for end in range(start+1, len(nums)+1):\n",
    "                sum = 0\n",
    "                for i in range(start, end):\n",
    "                    sum += nums[i]\n",
    "                if sum == k:\n",
    "                    count += 1\n",
    "        return count"
   ]
  },
  {
   "cell_type": "markdown",
   "metadata": {},
   "source": [
    "## 2. Using Cummulative sum（累積和）\n",
    "**TLE**(JavaではAcceptedされるらしい)  \n",
    "計算量 : $O(n^{2})$  \n",
    "メモリ : $O(n)$"
   ]
  },
  {
   "cell_type": "code",
   "execution_count": 13,
   "metadata": {},
   "outputs": [],
   "source": [
    "class Solution:\n",
    "    def subarraySum(self, nums, k):\n",
    "        count = 0\n",
    "        ruiseki = [0] * (len(nums) + 1)\n",
    "        for i in range(1, len(nums)+1):\n",
    "            ruiseki[i] = ruiseki[i-1] + nums[i-1]\n",
    "        for start in range(0, len(nums)):\n",
    "            for end in range(start+1, len(nums)+1):\n",
    "                if ruiseki[end] - ruiseki[start] == k:\n",
    "                    count += 1\n",
    "        return count"
   ]
  },
  {
   "cell_type": "markdown",
   "metadata": {},
   "source": [
    "### Cummulative sum\n",
    "cummulative sum(累積和)とは配列$a_{0}, a_{1}, a_{2}, ... , a_{N-1}$に対して，配列$s_{0}, s_{1}, s_{2}, ... , s_{N}$を以下のように定めた$s_{N}$のこと．  \n",
    "$$\n",
    "s_{0} = 0\\\\\n",
    "s_{1} = a_{0}\\\\  \n",
    "s_{2} = a_{0} + a_{1} = s_{0} + a_{1}\\\\\n",
    "s_{3} = a_{0} + a_{1} + a_{2} = s_{2} + a_{2}\\\\\n",
    ".\\\\\n",
    ".\\\\\n",
    ".\\\\\n",
    "s_{N} = a_{0} + a_{1} + a_{2} + ... + a_{N-1} = s_{N-1} + a_{N-1}\\\\\n",
    "$$\n",
    "\n",
    "累積和を使うと$a_{2} + a_{3} + a_{4} + a_{5}$は，$s_{6} - s_{2}$と求めることが出来る．"
   ]
  },
  {
   "cell_type": "markdown",
   "metadata": {},
   "source": [
    "## 3. Without space\n",
    "**TLE**(JavaではAcceptedされるらしい)  \n",
    "計算量 : $O(n^{2})$  \n",
    "メモリ : $O(1)$"
   ]
  },
  {
   "cell_type": "code",
   "execution_count": 15,
   "metadata": {},
   "outputs": [],
   "source": [
    "class Solution:\n",
    "    def subarraySum(self, nums, k):\n",
    "        count = 0\n",
    "        for start in range(len(nums)):\n",
    "            goukei = 0\n",
    "            for end in range(start, len(nums)):\n",
    "                goukei += nums[end]\n",
    "                if goukei == k:\n",
    "                    count += 1\n",
    "        return count"
   ]
  },
  {
   "cell_type": "markdown",
   "metadata": {},
   "source": [
    "## 4. Using hashmap\n",
    "計算量 : $O(n)$  \n",
    "メモリ : $O(n)$"
   ]
  },
  {
   "cell_type": "code",
   "execution_count": 17,
   "metadata": {},
   "outputs": [],
   "source": [
    "class Solution:\n",
    "    def subarraySum(self, nums, k):\n",
    "        count = 0\n",
    "        goukei = 0\n",
    "        dic = {0: 1}\n",
    "        for num in nums:\n",
    "            goukei += num\n",
    "            count += dic.get(goukei - k, 0)\n",
    "            dic[goukei] = dic.get(goukei, 0) + 1\n",
    "        return count"
   ]
  },
  {
   "cell_type": "markdown",
   "metadata": {},
   "source": [
    "> Runtime: 112 ms, faster than 89.41% of Python3 online submissions for Subarray Sum Equals K.  \n",
    "Memory Usage: 15.1 MB, less than 96.00% of Python3 online submissions for Subarray Sum Equals K.  \n",
    "\n",
    "この解法は通った．  \n",
    "累積和を辞書に保存し，$a_{i}$までの合計から欲しい和$k$を引いた値（=累積和）が辞書にあれば，その累積和から$a_{i}$までの合計が$k$になることが分かるので，カウンターを回す．  \n",
    "辞書を作りながら調べるだけなので，計算量が少ない．\n",
    "\n",
    "**例：**  \n",
    "$a_{2} + a_{3} + a_{4} + a_{5} = k$は$(a_{0} + a_{1} + ... +a_{5}) - s_{2} = k$となるので，$(a_{0} + a_{1} + ... +a_{5}) - k = s_{2}$となる．  \n",
    "だから$s_{2}$が辞書にあれば，存在する累積和からの連続した数字の合計は$k$になる．  \n",
    "\n"
   ]
  }
 ],
 "metadata": {
  "kernelspec": {
   "display_name": "Python 3",
   "language": "python",
   "name": "python3"
  },
  "language_info": {
   "codemirror_mode": {
    "name": "ipython",
    "version": 3
   },
   "file_extension": ".py",
   "mimetype": "text/x-python",
   "name": "python",
   "nbconvert_exporter": "python",
   "pygments_lexer": "ipython3",
   "version": "3.7.3"
  }
 },
 "nbformat": 4,
 "nbformat_minor": 2
}
